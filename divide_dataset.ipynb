{
 "cells": [
  {
   "cell_type": "markdown",
   "metadata": {},
   "source": [
    "Importing Libraries"
   ]
  },
  {
   "cell_type": "code",
   "execution_count": 1,
   "metadata": {},
   "outputs": [],
   "source": [
    "import numpy as np\n",
    "from pprint import pprint\n"
   ]
  },
  {
   "cell_type": "markdown",
   "metadata": {},
   "source": [
    "Setting path variables and threshold size which is the ratio of the dataset that is going to be used for training"
   ]
  },
  {
   "cell_type": "code",
   "execution_count": 2,
   "metadata": {},
   "outputs": [],
   "source": [
    "memmap_path='/mnt/Velocity_Vault/ECG/Dataset/'\n",
    "size=21837\n",
    "disease_count=7\n",
    "\n",
    "dataset_threshold=0.9"
   ]
  },
  {
   "cell_type": "markdown",
   "metadata": {},
   "source": [
    "Assuming dataset has already been created"
   ]
  },
  {
   "cell_type": "code",
   "execution_count": 3,
   "metadata": {},
   "outputs": [],
   "source": [
    "ecg_signal=np.memmap(memmap_path+'ecg_signal', dtype='int16', mode='r', shape=(size, 12,5000))\n",
    "features=np.memmap(memmap_path+'features', dtype='float32', mode='r', shape=(size, 12))\n",
    "labels=np.memmap(memmap_path+'labels', dtype='int', mode='r', shape=(size, disease_count))"
   ]
  },
  {
   "cell_type": "markdown",
   "metadata": {},
   "source": [
    "Splitting into new files"
   ]
  },
  {
   "cell_type": "code",
   "execution_count": 4,
   "metadata": {},
   "outputs": [],
   "source": [
    "\n",
    "train_size=int(dataset_threshold*size)\n",
    "test_size=size-train_size\n",
    "\n",
    "split_index=train_size\n",
    "\n",
    "train_signal=np.memmap(memmap_path+'train_signal', dtype='int16', mode='w+', shape=(train_size, 12,5000))\n",
    "train_feat=np.memmap(memmap_path+'train_feat', dtype='float32', mode='w+', shape=(train_size, 12))\n",
    "train_labels=np.memmap(memmap_path+'train_labels', dtype='int', mode='w+', shape=(train_size, disease_count))\n",
    "\n",
    "test_signal=np.memmap(memmap_path+'test_signal', dtype='int16', mode='w+', shape=(test_size, 12,5000))\n",
    "test_feat=np.memmap(memmap_path+'test_feat', dtype='float32', mode='w+', shape=(test_size, 12))\n",
    "test_labels=np.memmap(memmap_path+'test_labels', dtype='int', mode='w+', shape=(test_size, disease_count))\n",
    "\n",
    "for i in range(split_index):\n",
    "    train_signal[i]=ecg_signal[i]\n",
    "    train_feat[i]=features[i]\n",
    "    train_labels[i]=labels[i]\n",
    "    \n",
    "for i in range(size-split_index):\n",
    "    test_signal[i]=ecg_signal[i+split_index]\n",
    "    test_feat[i]=features[i+split_index]\n",
    "    test_labels[i]=labels[i+split_index]\n",
    "\n",
    "# test_labels=labels[split_index:]"
   ]
  },
  {
   "cell_type": "markdown",
   "metadata": {},
   "source": [
    "Printing shape for future use"
   ]
  },
  {
   "cell_type": "code",
   "execution_count": 5,
   "metadata": {},
   "outputs": [
    {
     "name": "stdout",
     "output_type": "stream",
     "text": [
      "(19653, 12, 5000)\n",
      "(2184, 12, 5000)\n"
     ]
    }
   ],
   "source": [
    "print(train_signal.shape)\n",
    "print(test_signal.shape)"
   ]
  }
 ],
 "metadata": {
  "kernelspec": {
   "display_name": "Python3_11",
   "language": "python",
   "name": "python3"
  },
  "language_info": {
   "codemirror_mode": {
    "name": "ipython",
    "version": 3
   },
   "file_extension": ".py",
   "mimetype": "text/x-python",
   "name": "python",
   "nbconvert_exporter": "python",
   "pygments_lexer": "ipython3",
   "version": "3.11.11"
  }
 },
 "nbformat": 4,
 "nbformat_minor": 2
}
